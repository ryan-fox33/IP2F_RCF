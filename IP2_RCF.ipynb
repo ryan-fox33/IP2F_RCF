{
 "cells": [
  {
   "cell_type": "code",
   "execution_count": 1,
   "id": "1c9dd7eb",
   "metadata": {},
   "outputs": [],
   "source": [
    "import numpy as np"
   ]
  },
  {
   "cell_type": "code",
   "execution_count": 6,
   "id": "133b9906",
   "metadata": {},
   "outputs": [
    {
     "data": {
      "text/plain": [
       "array([10, 20, 30, 40])"
      ]
     },
     "execution_count": 6,
     "metadata": {},
     "output_type": "execute_result"
    }
   ],
   "source": [
    "list1=[10,20,30,40]\n",
    "array1=np.array(list1)\n",
    "array1"
   ]
  },
  {
   "cell_type": "code",
   "execution_count": 7,
   "id": "d8a393c5",
   "metadata": {},
   "outputs": [
    {
     "data": {
      "text/plain": [
       "array([ 100,  400,  900, 1600], dtype=int32)"
      ]
     },
     "execution_count": 7,
     "metadata": {},
     "output_type": "execute_result"
    }
   ],
   "source": [
    "array1**2"
   ]
  },
  {
   "cell_type": "code",
   "execution_count": 9,
   "id": "329aee07",
   "metadata": {},
   "outputs": [
    {
     "data": {
      "text/plain": [
       "array([ 50, 100, 150, 200])"
      ]
     },
     "execution_count": 9,
     "metadata": {},
     "output_type": "execute_result"
    }
   ],
   "source": [
    "array1*5"
   ]
  },
  {
   "cell_type": "code",
   "execution_count": 12,
   "id": "0d57aa4a",
   "metadata": {},
   "outputs": [
    {
     "data": {
      "text/plain": [
       "array([3.16227766, 4.47213595, 5.47722558, 6.32455532])"
      ]
     },
     "execution_count": 12,
     "metadata": {},
     "output_type": "execute_result"
    }
   ],
   "source": [
    "np.sqrt(array1)"
   ]
  },
  {
   "cell_type": "code",
   "execution_count": 13,
   "id": "05418c6a",
   "metadata": {},
   "outputs": [
    {
     "data": {
      "text/plain": [
       "array([ 3,  6,  9, 12, 15, 18, 21, 24, 27])"
      ]
     },
     "execution_count": 13,
     "metadata": {},
     "output_type": "execute_result"
    }
   ],
   "source": [
    "list2=[3,6,9,12,15,18,21,24,27]\n",
    "array2=np.array(list2)\n",
    "array2"
   ]
  },
  {
   "cell_type": "code",
   "execution_count": 14,
   "id": "d3d734d1",
   "metadata": {},
   "outputs": [
    {
     "data": {
      "text/plain": [
       "array([11, 12, 13, 14, 15, 16, 17, 18, 19])"
      ]
     },
     "execution_count": 14,
     "metadata": {},
     "output_type": "execute_result"
    }
   ],
   "source": [
    "list3=[11,12,13,14,15,16,17,18,19]\n",
    "array3=np.array(list3)\n",
    "array3"
   ]
  },
  {
   "cell_type": "code",
   "execution_count": 15,
   "id": "c15f386d",
   "metadata": {},
   "outputs": [
    {
     "data": {
      "text/plain": [
       "array([ 33,  72, 117, 168, 225, 288, 357, 432, 513])"
      ]
     },
     "execution_count": 15,
     "metadata": {},
     "output_type": "execute_result"
    }
   ],
   "source": [
    "array2*array3"
   ]
  },
  {
   "cell_type": "code",
   "execution_count": 16,
   "id": "2bf41b97",
   "metadata": {},
   "outputs": [],
   "source": [
    "process1=np.load(\"process1.npy\")\n",
    "process2=np.load(\"process2.npy\")\n",
    "process3=np.load(\"process3.npy\")\n",
    "process4=np.load(\"process4.npy\")\n",
    "process5=np.load(\"process5.npy\")"
   ]
  },
  {
   "cell_type": "code",
   "execution_count": 18,
   "id": "7d1ce4d3",
   "metadata": {},
   "outputs": [
    {
     "data": {
      "text/plain": [
       "array([[52, 12, 81,  0, 58],\n",
       "       [96,  4, 61, 16, 43],\n",
       "       [38, 96, 45, 17, 58],\n",
       "       [97, 21, 22, 25,  6],\n",
       "       [77,  6, 19,  2, 74]])"
      ]
     },
     "execution_count": 18,
     "metadata": {},
     "output_type": "execute_result"
    }
   ],
   "source": [
    "array4=np.vstack([process1,process2,process3,process4,process5])\n",
    "array4"
   ]
  },
  {
   "cell_type": "code",
   "execution_count": 28,
   "id": "be94d39e",
   "metadata": {},
   "outputs": [
    {
     "data": {
      "text/plain": [
       "72.0"
      ]
     },
     "execution_count": 28,
     "metadata": {},
     "output_type": "execute_result"
    }
   ],
   "source": [
    "array4[:5,:1].mean()"
   ]
  },
  {
   "cell_type": "code",
   "execution_count": 34,
   "id": "dfeb0f50",
   "metadata": {},
   "outputs": [
    {
     "data": {
      "text/plain": [
       "27.8"
      ]
     },
     "execution_count": 34,
     "metadata": {},
     "output_type": "execute_result"
    }
   ],
   "source": [
    "array4[:5,1:2].mean()"
   ]
  },
  {
   "cell_type": "code",
   "execution_count": 35,
   "id": "2b558f9e",
   "metadata": {},
   "outputs": [
    {
     "data": {
      "text/plain": [
       "45.6"
      ]
     },
     "execution_count": 35,
     "metadata": {},
     "output_type": "execute_result"
    }
   ],
   "source": [
    "array4[:5,2:3].mean()"
   ]
  },
  {
   "cell_type": "code",
   "execution_count": 36,
   "id": "e4ece7cc",
   "metadata": {},
   "outputs": [
    {
     "data": {
      "text/plain": [
       "12.0"
      ]
     },
     "execution_count": 36,
     "metadata": {},
     "output_type": "execute_result"
    }
   ],
   "source": [
    "array4[:5,3:4].mean()"
   ]
  },
  {
   "cell_type": "code",
   "execution_count": 37,
   "id": "02b80b81",
   "metadata": {},
   "outputs": [
    {
     "data": {
      "text/plain": [
       "47.8"
      ]
     },
     "execution_count": 37,
     "metadata": {},
     "output_type": "execute_result"
    }
   ],
   "source": [
    "array4[:5,4:5].mean()"
   ]
  },
  {
   "cell_type": "markdown",
   "id": "77d2ce79",
   "metadata": {},
   "source": [
    "### Individual Project 2, Ryan Fox, Version 1, Spring DS160"
   ]
  },
  {
   "cell_type": "code",
   "execution_count": null,
   "id": "af51f444",
   "metadata": {},
   "outputs": [],
   "source": []
  }
 ],
 "metadata": {
  "kernelspec": {
   "display_name": "Python 3 (ipykernel)",
   "language": "python",
   "name": "python3"
  },
  "language_info": {
   "codemirror_mode": {
    "name": "ipython",
    "version": 3
   },
   "file_extension": ".py",
   "mimetype": "text/x-python",
   "name": "python",
   "nbconvert_exporter": "python",
   "pygments_lexer": "ipython3",
   "version": "3.9.12"
  }
 },
 "nbformat": 4,
 "nbformat_minor": 5
}
